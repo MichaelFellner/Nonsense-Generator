{
 "cells": [
  {
   "cell_type": "markdown",
   "id": "87c3fa11",
   "metadata": {},
   "source": [
    "<b>Imports. The \"limit\" parameter in keyedvectors.load_word2vec_format will give you the n most common words </b>"
   ]
  },
  {
   "cell_type": "code",
   "execution_count": 1,
   "id": "4e315568",
   "metadata": {},
   "outputs": [],
   "source": [
    "from gensim.models.keyedvectors import KeyedVectors\n",
    "word_vectors = KeyedVectors.load_word2vec_format(r\"C:\\Users\\mikef\\Downloads\\GoogleNews-vectors-negative300.bin.gz\", binary=True, limit=15000)"
   ]
  },
  {
   "cell_type": "markdown",
   "id": "cbfdf4f8",
   "metadata": {},
   "source": [
    "<b>Run nltk.download() to download brown and wordnet. Only needs to be done once.</b>"
   ]
  },
  {
   "cell_type": "code",
   "execution_count": 2,
   "id": "0001954e",
   "metadata": {},
   "outputs": [],
   "source": [
    "import nltk\n",
    "#nltk.download()"
   ]
  },
  {
   "cell_type": "code",
   "execution_count": 3,
   "id": "7967a7bd",
   "metadata": {},
   "outputs": [],
   "source": [
    "import random\n",
    "import inflect\n",
    "from nltk.corpus import brown\n",
    "import spacy"
   ]
  },
  {
   "cell_type": "code",
   "execution_count": 4,
   "id": "c74e556d",
   "metadata": {},
   "outputs": [],
   "source": [
    "nlp = spacy.load(\"en_core_web_sm\")"
   ]
  },
  {
   "cell_type": "markdown",
   "id": "2850e246",
   "metadata": {},
   "source": [
    "Some commented out test code"
   ]
  },
  {
   "cell_type": "code",
   "execution_count": 5,
   "id": "5973279f",
   "metadata": {},
   "outputs": [],
   "source": [
    "#old code for getting sentences in serial that contain inputted word\n",
    "# def sentence_word(word):\n",
    "#     word_sents = []\n",
    "#     for i in brown.sents(categories='fiction'):\n",
    "#         if word in i:\n",
    "#             word_sents.append(i)\n",
    "#     return word_sents"
   ]
  },
  {
   "cell_type": "code",
   "execution_count": 6,
   "id": "a8601153",
   "metadata": {},
   "outputs": [],
   "source": [
    "#word_vectors.most_similar(positive=['said'])"
   ]
  },
  {
   "cell_type": "code",
   "execution_count": 7,
   "id": "7753ef8e",
   "metadata": {},
   "outputs": [],
   "source": [
    "#1 - word_vectors.distance('solicitation','envelope')"
   ]
  },
  {
   "cell_type": "markdown",
   "id": "46cebb56",
   "metadata": {},
   "source": [
    "<h1>Main Functions</h1>"
   ]
  },
  {
   "cell_type": "markdown",
   "id": "ec741fed",
   "metadata": {},
   "source": [
    "<p>Generates a list of \"semantic\" \"opposites\" of a word. List items are randomized so that not every instance of a word, say 'dog', has the same opposite on each occurence. </p>"
   ]
  },
  {
   "cell_type": "code",
   "execution_count": 58,
   "id": "6c5e2a9d",
   "metadata": {},
   "outputs": [],
   "source": [
    "def opposite_vector(word):\n",
    "    try:\n",
    "        zz = word_vectors.most_similar(negative=[word],topn=1000)\n",
    "        random.shuffle(zz)\n",
    "        return zz\n",
    "    except:\n",
    "        return 0"
   ]
  },
  {
   "cell_type": "code",
   "execution_count": 54,
   "id": "8630ac3e",
   "metadata": {},
   "outputs": [
    {
     "name": "stdout",
     "output_type": "stream",
     "text": [
      "[('god', 0.4467619061470032), ('ultimate', 0.27755099534988403), ('billionaire', 0.2469705492258072), ('genius', 0.2825397849082947), ('nephew', 0.2755177319049835), ('colonial', 0.24549832940101624), ('Princess', 0.321186363697052), ('mighty', 0.3483976423740387), ('icon', 0.3241482079029083), ('winner', 0.24184319376945496), ('Prime_Minister', 0.29721054434776306), ('golden', 0.315428227186203), ('republic', 0.3394545912742615), ('coup', 0.272361695766449), ('epic', 0.24486184120178223), ('champ', 0.37749436497688293), ('monster', 0.34152844548225403), ('Pop', 0.2838295102119446), ('masters', 0.2596246600151062), ('bishop', 0.3010614216327667), ('kingdom', 0.5210406184196472), ('legends', 0.25968819856643677), ('him', 0.2486790269613266), ('shrine', 0.2691285312175751), ('King', 0.5158917903900146), ('lion', 0.24740149080753326), ('lover', 0.29147082567214966), ('famed', 0.26052629947662354), ('Prince', 0.362155944108963), ('minister', 0.26343467831611633), ('favorite', 0.24856851994991302), ('reigning', 0.3439011573791504), ('empire', 0.3076087236404419), ('Kingdom', 0.3727160394191742), ('champion', 0.349118709564209), ('cousin', 0.2661137282848358), ('masses', 0.2777291536331177), ('leader', 0.2525107264518738), ('champions', 0.29109427332878113), ('premier', 0.34639352560043335), ('Thaksin', 0.2842811942100525), ('royal', 0.5239794254302979), ('heroes', 0.24990540742874146), ('prime_minister', 0.4034717082977295), ('queen', 0.6510956287384033), ('palace', 0.4878290295600891), ('star', 0.28209245204925537), ('obsessed', 0.2521851360797882), ('glory', 0.2878531813621521), ('priest', 0.2724420726299286), ('boy', 0.25351524353027344), ('Nepal', 0.27725711464881897), ('treasure', 0.27460944652557373), ('crown', 0.3192773163318634), ('Pope', 0.3030697703361511), ('Saleh', 0.24922174215316772), ('greatest', 0.25804418325424194), ('ace', 0.2473726123571396), ('reign', 0.3299427032470703), ('snake', 0.2467631995677948), ('Mubarak', 0.27389875054359436), ('legend', 0.39593231678009033), ('hero', 0.3536983132362366), ('uncle', 0.25429776310920715), ('crowned', 0.34392061829566956), ('bride', 0.2729405462741852), ('giants', 0.2610422372817993), ('Abdullah', 0.31433460116386414), ('glorious', 0.2578238546848297), ('heaven', 0.2855895161628723), ('Dalai_Lama', 0.3107365667819977), ('younger_brother', 0.25660547614097595), ('Queen', 0.3808439075946808), ('rebellion', 0.2505147457122803), ('father', 0.24533714354038239), ('Hussein', 0.24667376279830933), ('ancient', 0.25575798749923706), ('heavyweight', 0.25511765480041504), ('superstar', 0.35514020919799805), ('Arafat', 0.2668880224227905), ('royalty', 0.2866540849208832), ('ass', 0.2627795934677124), ('statue', 0.2513674199581146), ('grandson', 0.2661767303943634), ('Prince_William', 0.24818606674671173), ('beloved', 0.2719695270061493), ('famous', 0.2520449161529541), ('legendary', 0.2891324460506439), ('sovereign', 0.24937617778778076), ('domination', 0.26020315289497375), ('dictator', 0.40200889110565186), ('revolution', 0.2897143065929413), ('giant', 0.25780054926872253), ('Royal', 0.26427239179611206), ('army', 0.2761976718902588), ('famously', 0.2700294554233551), ('pope', 0.3200747072696686), ('rulers', 0.4222913682460785), ('elephant', 0.24618133902549744), ('powerhouse', 0.2475578635931015)]\n"
     ]
    }
   ],
   "source": [
    "az =(word_vectors.most_similar(positive=['king'],topn=100))\n",
    "random.shuffle(az)\n",
    "print(az)"
   ]
  },
  {
   "cell_type": "markdown",
   "id": "6f21fee7",
   "metadata": {},
   "source": [
    "<p>Replaces words in a sentence with their \"semantic\" \"opposites\". Only replaces words of selected part of speech categories. Input the sentence as a list, and input the desired part of speech categories as a list as well. POS categories must be inputed as follows: Noun = 'NOUN', Verb = 'VERB', Adjective = 'ADJ'. Example: opposite_sentence(['Look', 'at', 'the', 'funny', 'cat'], ['NOUN','ADJ']) will try to switch all the nouns and adjectives in the sentence \"Look at the funny cat\" with their opposites. </p>"
   ]
  },
  {
   "cell_type": "code",
   "execution_count": 9,
   "id": "97d586d6",
   "metadata": {},
   "outputs": [],
   "source": [
    "def opposite_sentence(sentence,cats=['NOUN']): #sentence inputted as list, cats = pos categories\n",
    "    a = nlp(' '.join(sentence.copy())) #a = list-like object of words that can now be queried for their POS (eg a[0].pos_)\n",
    "    return_sent = sentence.copy()\n",
    "    replacements = []\n",
    "    \n",
    "    \n",
    "    ###IF THERE'S A PART IN a THEN IT WILL HAVE A LARGER RANGE\n",
    "    \n",
    "    \n",
    "    for i in range(len(a)): #for each word (or punctuation) in sentence\n",
    "        pos = a[i].pos_     #get POS of word \n",
    "        if pos not in cats: #If POS not in the inputed categories then ignore it\n",
    "            continue\n",
    "        opposite_list = opposite_vector(str(a[i])) #Get the words list of opposite words\n",
    "        if opposite_list == 0:                     #Unless we can't find a list of opposite words  \n",
    "            continue\n",
    "#Now iterate over each opposite word. Try replacing it with the original word in the sentence.\n",
    "#If the opposite word takes on the same POS when replaced into the sentence, finalize it as the official replacement word\n",
    "        for opposite in [o[0] for o in opposite_list]: \n",
    "            c = return_sent.copy() #get current return sentence\n",
    "            c[i] = opposite        #replace current word with opposite\n",
    "#This code may be useful if theres issues with singular/plural nouns -- will look into more later\n",
    "#             if inflect.engine().singular_noun(opposite) != False:\n",
    "#                 continue     \n",
    "            if nlp(' '.join(c))[i].pos_== pos: #check if replaced opposite has same POS or original word\n",
    "                replacements.append((i,opposite)) #if so, officially replace it\n",
    "                break\n",
    "    for i in replacements: \n",
    "        return_sent[i[0]] = \"[\" + i[1] + \"]\"\n",
    "    return return_sent"
   ]
  },
  {
   "cell_type": "code",
   "execution_count": 44,
   "id": "c7c2023f",
   "metadata": {},
   "outputs": [],
   "source": [
    "def opposite_sentence(sentence,cats=['NOUN']): #sentence inputted as list, cats = pos categories\n",
    "    a = nlp(' '.join(sentence.copy())) #a = list-like object of words that can now be queried for their POS (eg a[0].pos_)\n",
    "    return_sent = sentence.copy()\n",
    "    replacements = []\n",
    "    print(len(a))\n",
    "    print(len(sentence))\n",
    "    \n",
    "    ###IF THERE'S A PART IN a THEN IT WILL HAVE A LARGER RANGE\n",
    "    skip = 0\n",
    "    \n",
    "    for i in range(len(a)): #for each word (or punctuation) in sentence\n",
    "        pos = a[i].pos_     #get POS of word \n",
    "        if pos == 'PART':\n",
    "            skip +=1\n",
    "        if pos not in cats: #If POS not in the inputed categories then ignore it\n",
    "            continue\n",
    "        opposite_list = opposite_vector(str(a[i])) #Get the words list of opposite words\n",
    "        if opposite_list == 0:                     #Unless we can't find a list of opposite words  \n",
    "            continue\n",
    "        print(i)\n",
    "#Now iterate over each opposite word. Try replacing it with the original word in the sentence.\n",
    "#If the opposite word takes on the same POS when replaced into the sentence, finalize it as the official replacement word\n",
    "        for opposite in [o[0] for o in opposite_list]: \n",
    "            c = return_sent.copy() #get current return sentence \n",
    "            c[i-skip] = opposite        #replace current word with opposite\n",
    "#This code may be useful if theres issues with singular/plural nouns -- will look into more later\n",
    "#             if inflect.engine().singular_noun(opposite) != False:\n",
    "#                 continue     \n",
    "            if nlp(' '.join(c))[i].pos_== pos: #check if replaced opposite has same POS or original word\n",
    "                replacements.append((i-skip,opposite)) #if so, officially replace it\n",
    "                break\n",
    "    for i in replacements: \n",
    "        print(return_sent)\n",
    "        print(i[0])\n",
    "        print(replacements)\n",
    "        return_sent[i[0]] = \"[\" + i[1] + \"]\" #i[0] is index, i[1] is string replacement\n",
    "    return return_sent"
   ]
  },
  {
   "cell_type": "code",
   "execution_count": 11,
   "id": "7e07bb6b",
   "metadata": {},
   "outputs": [
    {
     "name": "stdout",
     "output_type": "stream",
     "text": [
      "hi INTJ\n",
      "there ADV\n",
      ", PUNCT\n",
      "everybody PRON\n",
      "'s PART\n",
      "dancing NOUN\n"
     ]
    }
   ],
   "source": [
    "for i in nlp('hi there, everybody\\'s dancing'):\n",
    "    print(i,i.pos_)"
   ]
  },
  {
   "cell_type": "code",
   "execution_count": 35,
   "id": "939c996b",
   "metadata": {},
   "outputs": [
    {
     "data": {
      "text/plain": [
       "\"hi there , everybody's dancing\""
      ]
     },
     "execution_count": 35,
     "metadata": {},
     "output_type": "execute_result"
    }
   ],
   "source": [
    "nlp(qq).text"
   ]
  },
  {
   "cell_type": "code",
   "execution_count": 32,
   "id": "b45d4361",
   "metadata": {},
   "outputs": [],
   "source": [
    "qq = 'hi there , everybody\\'s dancing'"
   ]
  },
  {
   "cell_type": "code",
   "execution_count": 49,
   "id": "c88a42ee",
   "metadata": {},
   "outputs": [
    {
     "ename": "AttributeError",
     "evalue": "'str' object has no attribute '_pos'",
     "output_type": "error",
     "traceback": [
      "\u001b[1;31m---------------------------------------------------------------------------\u001b[0m",
      "\u001b[1;31mAttributeError\u001b[0m                            Traceback (most recent call last)",
      "\u001b[1;32m~\\AppData\\Local\\Temp/ipykernel_8608/2440238478.py\u001b[0m in \u001b[0;36m<module>\u001b[1;34m\u001b[0m\n\u001b[0;32m      1\u001b[0m \u001b[1;32mfor\u001b[0m \u001b[0mi\u001b[0m \u001b[1;32min\u001b[0m \u001b[0mqq\u001b[0m\u001b[1;33m:\u001b[0m\u001b[1;33m\u001b[0m\u001b[1;33m\u001b[0m\u001b[0m\n\u001b[1;32m----> 2\u001b[1;33m     \u001b[0mprint\u001b[0m\u001b[1;33m(\u001b[0m\u001b[0mi\u001b[0m\u001b[1;33m,\u001b[0m\u001b[0mi\u001b[0m\u001b[1;33m.\u001b[0m\u001b[0m_pos\u001b[0m\u001b[1;33m)\u001b[0m\u001b[1;33m\u001b[0m\u001b[1;33m\u001b[0m\u001b[0m\n\u001b[0m",
      "\u001b[1;31mAttributeError\u001b[0m: 'str' object has no attribute '_pos'"
     ]
    }
   ],
   "source": [
    "for i in qq:\n",
    "    print(i,i._pos)"
   ]
  },
  {
   "cell_type": "code",
   "execution_count": 61,
   "id": "6be3a5b1",
   "metadata": {},
   "outputs": [
    {
     "name": "stdout",
     "output_type": "stream",
     "text": [
      "dancing\n",
      "7\n",
      "6\n",
      "2\n",
      "6\n",
      "['hi', 'there', 'dog', ',', \"everybody's\", 'dancing']\n",
      "2\n",
      "[(2, 'reservations'), (5, 'efficiency')]\n",
      "['hi', 'there', '[reservations]', ',', \"everybody's\", 'dancing']\n",
      "5\n",
      "[(2, 'reservations'), (5, 'efficiency')]\n"
     ]
    },
    {
     "data": {
      "text/plain": [
       "['hi', 'there', '[reservations]', ',', \"everybody's\", '[efficiency]']"
      ]
     },
     "execution_count": 61,
     "metadata": {},
     "output_type": "execute_result"
    }
   ],
   "source": [
    "qq ='hi there dog , everybody\\'s dancing'.split()\n",
    "print(qq[5])\n",
    "opposite_sentence(qq)"
   ]
  },
  {
   "cell_type": "markdown",
   "id": "5862aa21",
   "metadata": {},
   "source": [
    "<h1>Display Function(s)</h1>"
   ]
  },
  {
   "cell_type": "code",
   "execution_count": null,
   "id": "58c5f3a0",
   "metadata": {},
   "outputs": [],
   "source": [
    "def print_x(total_sents,cats):\n",
    "    for i in range(total_sents):\n",
    "        q = random.choice(brown.sents())\n",
    "        try:\n",
    "            a = ' '.join(q)\n",
    "            b = ' '.join(opposite_sentence(q,cats))\n",
    "            if a != b:\n",
    "                print('*********************************************')\n",
    "                print(a)\n",
    "                print()\n",
    "                print(b)\n",
    "                print('*********************************************')\n",
    "        except:\n",
    "            pass"
   ]
  },
  {
   "cell_type": "code",
   "execution_count": null,
   "id": "d3bf565c",
   "metadata": {},
   "outputs": [],
   "source": []
  }
 ],
 "metadata": {
  "kernelspec": {
   "display_name": "Python 3 (ipykernel)",
   "language": "python",
   "name": "python3"
  },
  "language_info": {
   "codemirror_mode": {
    "name": "ipython",
    "version": 3
   },
   "file_extension": ".py",
   "mimetype": "text/x-python",
   "name": "python",
   "nbconvert_exporter": "python",
   "pygments_lexer": "ipython3",
   "version": "3.9.7"
  }
 },
 "nbformat": 4,
 "nbformat_minor": 5
}
